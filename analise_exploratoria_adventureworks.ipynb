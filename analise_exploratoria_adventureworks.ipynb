{
 "metadata": {
  "language_info": {
   "codemirror_mode": {
    "name": "ipython",
    "version": 3
   },
   "file_extension": ".py",
   "mimetype": "text/x-python",
   "name": "python",
   "nbconvert_exporter": "python",
   "pygments_lexer": "ipython3",
   "version": "3.9.5"
  },
  "orig_nbformat": 4,
  "kernelspec": {
   "name": "python3",
   "display_name": "Python 3.9.5 64-bit (windows store)"
  },
  "interpreter": {
   "hash": "b07feba926ae1041a05316fd9176c8cbec2bdedd2c62cf4a255abc01780b9427"
  }
 },
 "nbformat": 4,
 "nbformat_minor": 2,
 "cells": [
  {
   "source": [
    "### Importando bibliotecas necessárias"
   ],
   "cell_type": "markdown",
   "metadata": {}
  },
  {
   "cell_type": "code",
   "execution_count": 42,
   "metadata": {},
   "outputs": [],
   "source": [
    "import pandas as pd\n",
    "import matplotlib.pyplot as plt\n",
    "plt.style.use(\"seaborn\")"
   ]
  },
  {
   "source": [
    "### Lendo dataSet"
   ],
   "cell_type": "markdown",
   "metadata": {}
  },
  {
   "cell_type": "code",
   "execution_count": 43,
   "metadata": {},
   "outputs": [
    {
     "output_type": "execute_result",
     "data": {
      "text/plain": [
       "  Data Venda Data Envio  ID Loja  ID Produto  ID Cliente       No. Venda  \\\n",
       "0 2008-05-09 2008-05-29      199         384       18839  200805093CS607   \n",
       "1 2008-05-12 2008-05-17      306         384       19051  200805123CS567   \n",
       "2 2008-05-14 2008-05-20      306         384       19052  200805143CS576   \n",
       "3 2008-05-21 2008-05-27      306         384       19052  200805213CS576   \n",
       "4 2008-06-20 2008-06-27      306         384       19053  200806203CS586   \n",
       "\n",
       "   Custo Unitário  Preço Unitário  Quantidade  Valor Desconto  Valor Venda  \\\n",
       "0          348.58           758.0           6             0.0       4548.0   \n",
       "1          348.58           758.0           6             0.0       4548.0   \n",
       "2          348.58           758.0           6             0.0       4548.0   \n",
       "3          348.58           758.0           6             0.0       4548.0   \n",
       "4          348.58           758.0           6             0.0       4548.0   \n",
       "\n",
       "                                 Produto       Fabricante            Marca  \\\n",
       "0  Adventure Works Laptop15.4W M1548 Red  Adventure Works  Adventure Works   \n",
       "1  Adventure Works Laptop15.4W M1548 Red  Adventure Works  Adventure Works   \n",
       "2  Adventure Works Laptop15.4W M1548 Red  Adventure Works  Adventure Works   \n",
       "3  Adventure Works Laptop15.4W M1548 Red  Adventure Works  Adventure Works   \n",
       "4  Adventure Works Laptop15.4W M1548 Red  Adventure Works  Adventure Works   \n",
       "\n",
       "    Classe  Cor  \n",
       "0  Regular  Red  \n",
       "1  Regular  Red  \n",
       "2  Regular  Red  \n",
       "3  Regular  Red  \n",
       "4  Regular  Red  "
      ],
      "text/html": "<div>\n<style scoped>\n    .dataframe tbody tr th:only-of-type {\n        vertical-align: middle;\n    }\n\n    .dataframe tbody tr th {\n        vertical-align: top;\n    }\n\n    .dataframe thead th {\n        text-align: right;\n    }\n</style>\n<table border=\"1\" class=\"dataframe\">\n  <thead>\n    <tr style=\"text-align: right;\">\n      <th></th>\n      <th>Data Venda</th>\n      <th>Data Envio</th>\n      <th>ID Loja</th>\n      <th>ID Produto</th>\n      <th>ID Cliente</th>\n      <th>No. Venda</th>\n      <th>Custo Unitário</th>\n      <th>Preço Unitário</th>\n      <th>Quantidade</th>\n      <th>Valor Desconto</th>\n      <th>Valor Venda</th>\n      <th>Produto</th>\n      <th>Fabricante</th>\n      <th>Marca</th>\n      <th>Classe</th>\n      <th>Cor</th>\n    </tr>\n  </thead>\n  <tbody>\n    <tr>\n      <th>0</th>\n      <td>2008-05-09</td>\n      <td>2008-05-29</td>\n      <td>199</td>\n      <td>384</td>\n      <td>18839</td>\n      <td>200805093CS607</td>\n      <td>348.58</td>\n      <td>758.0</td>\n      <td>6</td>\n      <td>0.0</td>\n      <td>4548.0</td>\n      <td>Adventure Works Laptop15.4W M1548 Red</td>\n      <td>Adventure Works</td>\n      <td>Adventure Works</td>\n      <td>Regular</td>\n      <td>Red</td>\n    </tr>\n    <tr>\n      <th>1</th>\n      <td>2008-05-12</td>\n      <td>2008-05-17</td>\n      <td>306</td>\n      <td>384</td>\n      <td>19051</td>\n      <td>200805123CS567</td>\n      <td>348.58</td>\n      <td>758.0</td>\n      <td>6</td>\n      <td>0.0</td>\n      <td>4548.0</td>\n      <td>Adventure Works Laptop15.4W M1548 Red</td>\n      <td>Adventure Works</td>\n      <td>Adventure Works</td>\n      <td>Regular</td>\n      <td>Red</td>\n    </tr>\n    <tr>\n      <th>2</th>\n      <td>2008-05-14</td>\n      <td>2008-05-20</td>\n      <td>306</td>\n      <td>384</td>\n      <td>19052</td>\n      <td>200805143CS576</td>\n      <td>348.58</td>\n      <td>758.0</td>\n      <td>6</td>\n      <td>0.0</td>\n      <td>4548.0</td>\n      <td>Adventure Works Laptop15.4W M1548 Red</td>\n      <td>Adventure Works</td>\n      <td>Adventure Works</td>\n      <td>Regular</td>\n      <td>Red</td>\n    </tr>\n    <tr>\n      <th>3</th>\n      <td>2008-05-21</td>\n      <td>2008-05-27</td>\n      <td>306</td>\n      <td>384</td>\n      <td>19052</td>\n      <td>200805213CS576</td>\n      <td>348.58</td>\n      <td>758.0</td>\n      <td>6</td>\n      <td>0.0</td>\n      <td>4548.0</td>\n      <td>Adventure Works Laptop15.4W M1548 Red</td>\n      <td>Adventure Works</td>\n      <td>Adventure Works</td>\n      <td>Regular</td>\n      <td>Red</td>\n    </tr>\n    <tr>\n      <th>4</th>\n      <td>2008-06-20</td>\n      <td>2008-06-27</td>\n      <td>306</td>\n      <td>384</td>\n      <td>19053</td>\n      <td>200806203CS586</td>\n      <td>348.58</td>\n      <td>758.0</td>\n      <td>6</td>\n      <td>0.0</td>\n      <td>4548.0</td>\n      <td>Adventure Works Laptop15.4W M1548 Red</td>\n      <td>Adventure Works</td>\n      <td>Adventure Works</td>\n      <td>Regular</td>\n      <td>Red</td>\n    </tr>\n  </tbody>\n</table>\n</div>"
     },
     "metadata": {},
     "execution_count": 43
    }
   ],
   "source": [
    "df = pd.read_excel(\"AdventureWorks.xlsx\")\n",
    "df.head()"
   ]
  },
  {
   "cell_type": "code",
   "execution_count": 44,
   "metadata": {},
   "outputs": [
    {
     "output_type": "execute_result",
     "data": {
      "text/plain": [
       "(904, 16)"
      ]
     },
     "metadata": {},
     "execution_count": 44
    }
   ],
   "source": [
    "# Tamanho do dataFrame\n",
    "df.shape"
   ]
  },
  {
   "cell_type": "code",
   "execution_count": 45,
   "metadata": {},
   "outputs": [
    {
     "output_type": "execute_result",
     "data": {
      "text/plain": [
       "Data Venda        datetime64[ns]\n",
       "Data Envio        datetime64[ns]\n",
       "ID Loja                    int64\n",
       "ID Produto                 int64\n",
       "ID Cliente                 int64\n",
       "No. Venda                 object\n",
       "Custo Unitário           float64\n",
       "Preço Unitário           float64\n",
       "Quantidade                 int64\n",
       "Valor Desconto           float64\n",
       "Valor Venda              float64\n",
       "Produto                   object\n",
       "Fabricante                object\n",
       "Marca                     object\n",
       "Classe                    object\n",
       "Cor                       object\n",
       "dtype: object"
      ]
     },
     "metadata": {},
     "execution_count": 45
    }
   ],
   "source": [
    "# Tipos de dados das colunas do dataFrame\n",
    "df.dtypes"
   ]
  },
  {
   "cell_type": "code",
   "execution_count": 46,
   "metadata": {},
   "outputs": [
    {
     "output_type": "execute_result",
     "data": {
      "text/plain": [
       "Data Venda        0\n",
       "Data Envio        0\n",
       "ID Loja           0\n",
       "ID Produto        0\n",
       "ID Cliente        0\n",
       "No. Venda         0\n",
       "Custo Unitário    0\n",
       "Preço Unitário    0\n",
       "Quantidade        0\n",
       "Valor Desconto    0\n",
       "Valor Venda       0\n",
       "Produto           0\n",
       "Fabricante        0\n",
       "Marca             0\n",
       "Classe            0\n",
       "Cor               0\n",
       "dtype: int64"
      ]
     },
     "metadata": {},
     "execution_count": 46
    }
   ],
   "source": [
    "# Verificando valores ausentes\n",
    "df.isnull().sum()"
   ]
  },
  {
   "source": [
    "## Receita total"
   ],
   "cell_type": "markdown",
   "metadata": {}
  },
  {
   "cell_type": "code",
   "execution_count": 47,
   "metadata": {},
   "outputs": [
    {
     "output_type": "stream",
     "name": "stdout",
     "text": [
      "US$ 5984606.14\n"
     ]
    }
   ],
   "source": [
    "print(f\"US$ {df['Valor Venda'].sum():.2f}\")\n",
    "\n",
    "# O dolár foi utilizado com o único propósito de ilustrar a análise"
   ]
  },
  {
   "source": [
    "## Custo total"
   ],
   "cell_type": "markdown",
   "metadata": {}
  },
  {
   "source": [
    "### Adicionando coluna Custo"
   ],
   "cell_type": "markdown",
   "metadata": {}
  },
  {
   "cell_type": "code",
   "execution_count": 48,
   "metadata": {},
   "outputs": [
    {
     "output_type": "execute_result",
     "data": {
      "text/plain": [
       "0      2091.48\n",
       "1      2091.48\n",
       "2      2091.48\n",
       "3      2091.48\n",
       "4      2091.48\n",
       "        ...   \n",
       "899    1985.94\n",
       "900    1948.14\n",
       "901    1948.14\n",
       "902    1985.94\n",
       "903    1948.14\n",
       "Name: Custo, Length: 904, dtype: float64"
      ]
     },
     "metadata": {},
     "execution_count": 48
    }
   ],
   "source": [
    "df[\"Custo\"] = df[\"Custo Unitário\"].mul(df[\"Quantidade\"])\n",
    "df[\"Custo\"]"
   ]
  },
  {
   "source": [
    "### Calculando o Custo total"
   ],
   "cell_type": "markdown",
   "metadata": {}
  },
  {
   "cell_type": "code",
   "execution_count": 49,
   "metadata": {},
   "outputs": [
    {
     "output_type": "stream",
     "name": "stdout",
     "text": [
      "US$ 2486783.05\n"
     ]
    }
   ],
   "source": [
    "print(f\"US$ {df['Custo'].sum():.2f}\")"
   ]
  },
  {
   "source": [
    "## Lucro total"
   ],
   "cell_type": "markdown",
   "metadata": {}
  },
  {
   "source": [
    "### Adicionando coluna Lucro"
   ],
   "cell_type": "markdown",
   "metadata": {}
  },
  {
   "cell_type": "code",
   "execution_count": 50,
   "metadata": {},
   "outputs": [
    {
     "output_type": "execute_result",
     "data": {
      "text/plain": [
       "0      2456.52\n",
       "1      2456.52\n",
       "2      2456.52\n",
       "3      2456.52\n",
       "4      2456.52\n",
       "        ...   \n",
       "899    3588.48\n",
       "900    2755.86\n",
       "901    2755.86\n",
       "902    2809.26\n",
       "903    2755.86\n",
       "Name: Lucro, Length: 904, dtype: float64"
      ]
     },
     "metadata": {},
     "execution_count": 50
    }
   ],
   "source": [
    "df[\"Lucro\"] = df[\"Valor Venda\"] - df[\"Custo\"]\n",
    "df[\"Lucro\"]"
   ]
  },
  {
   "source": [
    "### Calculando Lucro total"
   ],
   "cell_type": "markdown",
   "metadata": {}
  },
  {
   "cell_type": "code",
   "execution_count": 51,
   "metadata": {},
   "outputs": [
    {
     "output_type": "stream",
     "name": "stdout",
     "text": [
      "US$ 3497823.09\n"
     ]
    }
   ],
   "source": [
    "print(f\"US$ {df['Lucro'].sum():.2f}\")"
   ]
  },
  {
   "source": [
    "## Tempos de envio, média dos tempos de envio e média dos tempos de envio por marca"
   ],
   "cell_type": "markdown",
   "metadata": {}
  },
  {
   "source": [
    "### Adicionando coluna Tempo Envio"
   ],
   "cell_type": "markdown",
   "metadata": {}
  },
  {
   "cell_type": "code",
   "execution_count": 52,
   "metadata": {},
   "outputs": [
    {
     "output_type": "execute_result",
     "data": {
      "text/plain": [
       "0     20 days\n",
       "1      5 days\n",
       "2      6 days\n",
       "3      6 days\n",
       "4      7 days\n",
       "        ...  \n",
       "899   13 days\n",
       "900   11 days\n",
       "901    4 days\n",
       "902    4 days\n",
       "903    4 days\n",
       "Name: Tempo Envio, Length: 904, dtype: timedelta64[ns]"
      ]
     },
     "metadata": {},
     "execution_count": 52
    }
   ],
   "source": [
    "df[\"Tempo Envio\"] = df[\"Data Envio\"] - df[\"Data Venda\"]\n",
    "df[\"Tempo Envio\"]"
   ]
  },
  {
   "cell_type": "code",
   "execution_count": 53,
   "metadata": {},
   "outputs": [
    {
     "output_type": "execute_result",
     "data": {
      "text/plain": [
       "0      20\n",
       "1       5\n",
       "2       6\n",
       "3       6\n",
       "4       7\n",
       "       ..\n",
       "899    13\n",
       "900    11\n",
       "901     4\n",
       "902     4\n",
       "903     4\n",
       "Name: Tempo Envio, Length: 904, dtype: int64"
      ]
     },
     "metadata": {},
     "execution_count": 53
    }
   ],
   "source": [
    "# Convertendo coluna Tempo Envio para inteiro\n",
    "df[\"Tempo Envio\"] = (df[\"Data Envio\"] - df[\"Data Venda\"]).dt.days\n",
    "df[\"Tempo Envio\"]"
   ]
  },
  {
   "source": [
    "### Média dos tempos de envio"
   ],
   "cell_type": "markdown",
   "metadata": {}
  },
  {
   "cell_type": "code",
   "execution_count": 54,
   "metadata": {},
   "outputs": [
    {
     "output_type": "execute_result",
     "data": {
      "text/plain": [
       "8.5"
      ]
     },
     "metadata": {},
     "execution_count": 54
    }
   ],
   "source": [
    "round(df['Tempo Envio'].mean(), 1)"
   ]
  },
  {
   "source": [
    "### Média dos tempos de envio por marca"
   ],
   "cell_type": "markdown",
   "metadata": {}
  },
  {
   "cell_type": "code",
   "execution_count": 55,
   "metadata": {},
   "outputs": [
    {
     "output_type": "execute_result",
     "data": {
      "text/plain": [
       "Marca\n",
       "Adventure Works    8.7\n",
       "Contoso            8.5\n",
       "Fabrikam           8.5\n",
       "Name: Tempo Envio, dtype: float64"
      ]
     },
     "metadata": {},
     "execution_count": 55
    }
   ],
   "source": [
    "round(df.groupby(\"Marca\")[\"Tempo Envio\"].mean(), 1)"
   ]
  }
 ]
}